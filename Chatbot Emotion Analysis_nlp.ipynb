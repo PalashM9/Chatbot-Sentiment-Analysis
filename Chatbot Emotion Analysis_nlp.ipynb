{
 "cells": [
  {
   "cell_type": "code",
   "execution_count": 2,
   "id": "10b443ec",
   "metadata": {},
   "outputs": [],
   "source": [
    "# Libraries\n",
    "\n",
    "import numpy as np\n",
    "import pandas as pd\n",
    "import matplotlib.pyplot as plt\n",
    "import seaborn as sns\n",
    "import os        \n",
    "from sklearn.feature_extraction.text import TfidfVectorizer\n",
    "from sklearn.naive_bayes import MultinomialNB\n",
    "from sklearn.metrics import accuracy_score, classification_report, confusion_matrix\n",
    "from sklearn.model_selection import train_test_split\n",
    "from sklearn.linear_model import LogisticRegression\n",
    "from sklearn.ensemble import RandomForestClassifier\n",
    "import nltk\n",
    "from nltk.corpus import stopwords\n",
    "from nltk.tokenize import word_tokenize\n",
    "from nltk.stem import WordNetLemmatizer, PorterStemmer\n",
    "from sklearn.preprocessing import LabelEncoder\n",
    "import string\n",
    "import subprocess\n",
    "from sklearn.preprocessing import MaxAbsScaler\n",
    "from sklearn.pipeline import make_pipeline\n",
    "from gensim.models import Word2Vec\n",
    "import gensim.downloader as api\n",
    "import joblib\n",
    "import torch\n",
    "from torch.utils.data import DataLoader, RandomSampler, SequentialSampler, TensorDataset\n",
    "from transformers import BertTokenizer, BertForSequenceClassification, AdamW\n",
    "from sklearn.metrics import accuracy_score, classification_report\n",
    "from transformers import get_linear_schedule_with_warmup\n",
    "\n",
    "import xgboost as xgb"
   ]
  },
  {
   "cell_type": "code",
   "execution_count": 3,
   "id": "265baa0c",
   "metadata": {},
   "outputs": [
    {
     "data": {
      "text/html": [
       "<div>\n",
       "<style scoped>\n",
       "    .dataframe tbody tr th:only-of-type {\n",
       "        vertical-align: middle;\n",
       "    }\n",
       "\n",
       "    .dataframe tbody tr th {\n",
       "        vertical-align: top;\n",
       "    }\n",
       "\n",
       "    .dataframe thead th {\n",
       "        text-align: right;\n",
       "    }\n",
       "</style>\n",
       "<table border=\"1\" class=\"dataframe\">\n",
       "  <thead>\n",
       "    <tr style=\"text-align: right;\">\n",
       "      <th></th>\n",
       "      <th>conversation_id</th>\n",
       "      <th>message</th>\n",
       "      <th>sentiment</th>\n",
       "    </tr>\n",
       "  </thead>\n",
       "  <tbody>\n",
       "    <tr>\n",
       "      <th>0</th>\n",
       "      <td>1.0</td>\n",
       "      <td>Are you a fan of Google or Microsoft?</td>\n",
       "      <td>Curious to dive deeper</td>\n",
       "    </tr>\n",
       "    <tr>\n",
       "      <th>1</th>\n",
       "      <td>1.0</td>\n",
       "      <td>Both are excellent technology they are helpfu...</td>\n",
       "      <td>Curious to dive deeper</td>\n",
       "    </tr>\n",
       "    <tr>\n",
       "      <th>2</th>\n",
       "      <td>1.0</td>\n",
       "      <td>I'm not  a huge fan of Google, but I use it a...</td>\n",
       "      <td>Curious to dive deeper</td>\n",
       "    </tr>\n",
       "    <tr>\n",
       "      <th>3</th>\n",
       "      <td>1.0</td>\n",
       "      <td>Google provides online related services and p...</td>\n",
       "      <td>Curious to dive deeper</td>\n",
       "    </tr>\n",
       "    <tr>\n",
       "      <th>4</th>\n",
       "      <td>1.0</td>\n",
       "      <td>Yeah, their services are good. I'm just not a...</td>\n",
       "      <td>Curious to dive deeper</td>\n",
       "    </tr>\n",
       "  </tbody>\n",
       "</table>\n",
       "</div>"
      ],
      "text/plain": [
       "   conversation_id                                            message  \\\n",
       "0              1.0              Are you a fan of Google or Microsoft?   \n",
       "1              1.0   Both are excellent technology they are helpfu...   \n",
       "2              1.0   I'm not  a huge fan of Google, but I use it a...   \n",
       "3              1.0   Google provides online related services and p...   \n",
       "4              1.0   Yeah, their services are good. I'm just not a...   \n",
       "\n",
       "                 sentiment  \n",
       "0   Curious to dive deeper  \n",
       "1   Curious to dive deeper  \n",
       "2   Curious to dive deeper  \n",
       "3   Curious to dive deeper  \n",
       "4   Curious to dive deeper  "
      ]
     },
     "execution_count": 3,
     "metadata": {},
     "output_type": "execute_result"
    }
   ],
   "source": [
    "df = pd.read_csv('converse.csv')\n",
    "df.head()"
   ]
  },
  {
   "cell_type": "code",
   "execution_count": 4,
   "id": "4cbabb7a",
   "metadata": {},
   "outputs": [],
   "source": [
    "df = df.drop(\"conversation_id\", axis=1)"
   ]
  },
  {
   "cell_type": "code",
   "execution_count": 5,
   "id": "ad19ebc4",
   "metadata": {},
   "outputs": [
    {
     "data": {
      "text/html": [
       "<div>\n",
       "<style scoped>\n",
       "    .dataframe tbody tr th:only-of-type {\n",
       "        vertical-align: middle;\n",
       "    }\n",
       "\n",
       "    .dataframe tbody tr th {\n",
       "        vertical-align: top;\n",
       "    }\n",
       "\n",
       "    .dataframe thead th {\n",
       "        text-align: right;\n",
       "    }\n",
       "</style>\n",
       "<table border=\"1\" class=\"dataframe\">\n",
       "  <thead>\n",
       "    <tr style=\"text-align: right;\">\n",
       "      <th></th>\n",
       "      <th>message</th>\n",
       "      <th>sentiment</th>\n",
       "    </tr>\n",
       "  </thead>\n",
       "  <tbody>\n",
       "    <tr>\n",
       "      <th>0</th>\n",
       "      <td>Are you a fan of Google or Microsoft?</td>\n",
       "      <td>Curious to dive deeper</td>\n",
       "    </tr>\n",
       "    <tr>\n",
       "      <th>1</th>\n",
       "      <td>Both are excellent technology they are helpfu...</td>\n",
       "      <td>Curious to dive deeper</td>\n",
       "    </tr>\n",
       "    <tr>\n",
       "      <th>2</th>\n",
       "      <td>I'm not  a huge fan of Google, but I use it a...</td>\n",
       "      <td>Curious to dive deeper</td>\n",
       "    </tr>\n",
       "    <tr>\n",
       "      <th>3</th>\n",
       "      <td>Google provides online related services and p...</td>\n",
       "      <td>Curious to dive deeper</td>\n",
       "    </tr>\n",
       "    <tr>\n",
       "      <th>4</th>\n",
       "      <td>Yeah, their services are good. I'm just not a...</td>\n",
       "      <td>Curious to dive deeper</td>\n",
       "    </tr>\n",
       "    <tr>\n",
       "      <th>...</th>\n",
       "      <td>...</td>\n",
       "      <td>...</td>\n",
       "    </tr>\n",
       "    <tr>\n",
       "      <th>194310</th>\n",
       "      <td>i begun to feel distressed for you</td>\n",
       "      <td>fear</td>\n",
       "    </tr>\n",
       "    <tr>\n",
       "      <th>194311</th>\n",
       "      <td>i left feeling annoyed and angry thinking that...</td>\n",
       "      <td>anger</td>\n",
       "    </tr>\n",
       "    <tr>\n",
       "      <th>194312</th>\n",
       "      <td>i were to ever get married i d have everything...</td>\n",
       "      <td>joy</td>\n",
       "    </tr>\n",
       "    <tr>\n",
       "      <th>194313</th>\n",
       "      <td>i feel reluctant in applying there because i w...</td>\n",
       "      <td>fear</td>\n",
       "    </tr>\n",
       "    <tr>\n",
       "      <th>194314</th>\n",
       "      <td>i just wanted to apologize to you because i fe...</td>\n",
       "      <td>anger</td>\n",
       "    </tr>\n",
       "  </tbody>\n",
       "</table>\n",
       "<p>194315 rows × 2 columns</p>\n",
       "</div>"
      ],
      "text/plain": [
       "                                                  message  \\\n",
       "0                   Are you a fan of Google or Microsoft?   \n",
       "1        Both are excellent technology they are helpfu...   \n",
       "2        I'm not  a huge fan of Google, but I use it a...   \n",
       "3        Google provides online related services and p...   \n",
       "4        Yeah, their services are good. I'm just not a...   \n",
       "...                                                   ...   \n",
       "194310                 i begun to feel distressed for you   \n",
       "194311  i left feeling annoyed and angry thinking that...   \n",
       "194312  i were to ever get married i d have everything...   \n",
       "194313  i feel reluctant in applying there because i w...   \n",
       "194314  i just wanted to apologize to you because i fe...   \n",
       "\n",
       "                      sentiment  \n",
       "0        Curious to dive deeper  \n",
       "1        Curious to dive deeper  \n",
       "2        Curious to dive deeper  \n",
       "3        Curious to dive deeper  \n",
       "4        Curious to dive deeper  \n",
       "...                         ...  \n",
       "194310                     fear  \n",
       "194311                    anger  \n",
       "194312                      joy  \n",
       "194313                     fear  \n",
       "194314                    anger  \n",
       "\n",
       "[194315 rows x 2 columns]"
      ]
     },
     "execution_count": 5,
     "metadata": {},
     "output_type": "execute_result"
    }
   ],
   "source": [
    "df"
   ]
  },
  {
   "cell_type": "code",
   "execution_count": 6,
   "id": "94d1faaa",
   "metadata": {},
   "outputs": [
    {
     "name": "stdout",
     "output_type": "stream",
     "text": [
      " Curious to dive deeper    80888\n",
      " Neutral                   41367\n",
      " Surprised                 30638\n",
      " Happy                     29617\n",
      " Sad                        2533\n",
      "anger                       2000\n",
      "joy                         2000\n",
      "fear                        1937\n",
      " Disgusted                  1433\n",
      " Fearful                    1026\n",
      " Angry                       876\n",
      "Name: sentiment, dtype: int64\n"
     ]
    }
   ],
   "source": [
    "variations = df['sentiment'].value_counts()\n",
    "print(variations)"
   ]
  },
  {
   "cell_type": "code",
   "execution_count": 7,
   "id": "244f06bb",
   "metadata": {},
   "outputs": [],
   "source": [
    "# Pre-processing of the sentiment column\n",
    "df['sentiment'] = df['sentiment'].str.strip()"
   ]
  },
  {
   "cell_type": "code",
   "execution_count": 8,
   "id": "e68f1a9b",
   "metadata": {},
   "outputs": [
    {
     "data": {
      "text/plain": [
       "Curious to dive deeper    80888\n",
       "Neutral                   41367\n",
       "Surprised                 30638\n",
       "Happy                     29617\n",
       "Sad                        2533\n",
       "anger                      2000\n",
       "joy                        2000\n",
       "fear                       1937\n",
       "Disgusted                  1433\n",
       "Fearful                    1026\n",
       "Angry                       876\n",
       "Name: sentiment, dtype: int64"
      ]
     },
     "execution_count": 8,
     "metadata": {},
     "output_type": "execute_result"
    }
   ],
   "source": [
    "df['sentiment'].value_counts()"
   ]
  },
  {
   "cell_type": "code",
   "execution_count": 9,
   "id": "1d6b1f2e",
   "metadata": {},
   "outputs": [],
   "source": [
    "# Creating similarity\n",
    "sentiment_mapping = {\n",
    "    'Curious to dive deeper': 'Interested',\n",
    "    'Neutral': 'Neutral',\n",
    "    'Surprised': 'Surprised',\n",
    "    'Happy': 'Happy',\n",
    "    'Sad': 'Sad',\n",
    "    'anger': 'Angry',\n",
    "    'joy': 'Happy',\n",
    "    'fear': 'Fear',\n",
    "    'Fear': 'Fear',\n",
    "    'Disgusted': 'Disgusted',\n",
    "    'Fearful': 'Fear',\n",
    "    'Angry': 'Angry'\n",
    "}"
   ]
  },
  {
   "cell_type": "code",
   "execution_count": 10,
   "id": "7dad45d9",
   "metadata": {},
   "outputs": [],
   "source": [
    "df['sentiment_grouped'] = df['sentiment'].map(sentiment_mapping)"
   ]
  },
  {
   "cell_type": "code",
   "execution_count": 11,
   "id": "c355423b",
   "metadata": {},
   "outputs": [
    {
     "data": {
      "text/html": [
       "<div>\n",
       "<style scoped>\n",
       "    .dataframe tbody tr th:only-of-type {\n",
       "        vertical-align: middle;\n",
       "    }\n",
       "\n",
       "    .dataframe tbody tr th {\n",
       "        vertical-align: top;\n",
       "    }\n",
       "\n",
       "    .dataframe thead th {\n",
       "        text-align: right;\n",
       "    }\n",
       "</style>\n",
       "<table border=\"1\" class=\"dataframe\">\n",
       "  <thead>\n",
       "    <tr style=\"text-align: right;\">\n",
       "      <th></th>\n",
       "      <th>message</th>\n",
       "      <th>sentiment</th>\n",
       "      <th>sentiment_grouped</th>\n",
       "    </tr>\n",
       "  </thead>\n",
       "  <tbody>\n",
       "    <tr>\n",
       "      <th>194115</th>\n",
       "      <td>i did feel complacent that now in britain with...</td>\n",
       "      <td>joy</td>\n",
       "      <td>Happy</td>\n",
       "    </tr>\n",
       "    <tr>\n",
       "      <th>194116</th>\n",
       "      <td>i will feel so glad to go sing me to sleep sin...</td>\n",
       "      <td>joy</td>\n",
       "      <td>Happy</td>\n",
       "    </tr>\n",
       "    <tr>\n",
       "      <th>194117</th>\n",
       "      <td>i feel like thats what vicious circle is</td>\n",
       "      <td>anger</td>\n",
       "      <td>Angry</td>\n",
       "    </tr>\n",
       "    <tr>\n",
       "      <th>194118</th>\n",
       "      <td>i keep feel irritated</td>\n",
       "      <td>anger</td>\n",
       "      <td>Angry</td>\n",
       "    </tr>\n",
       "    <tr>\n",
       "      <th>194119</th>\n",
       "      <td>i travel i feel like men expect me to be neuro...</td>\n",
       "      <td>fear</td>\n",
       "      <td>Fear</td>\n",
       "    </tr>\n",
       "    <tr>\n",
       "      <th>...</th>\n",
       "      <td>...</td>\n",
       "      <td>...</td>\n",
       "      <td>...</td>\n",
       "    </tr>\n",
       "    <tr>\n",
       "      <th>194310</th>\n",
       "      <td>i begun to feel distressed for you</td>\n",
       "      <td>fear</td>\n",
       "      <td>Fear</td>\n",
       "    </tr>\n",
       "    <tr>\n",
       "      <th>194311</th>\n",
       "      <td>i left feeling annoyed and angry thinking that...</td>\n",
       "      <td>anger</td>\n",
       "      <td>Angry</td>\n",
       "    </tr>\n",
       "    <tr>\n",
       "      <th>194312</th>\n",
       "      <td>i were to ever get married i d have everything...</td>\n",
       "      <td>joy</td>\n",
       "      <td>Happy</td>\n",
       "    </tr>\n",
       "    <tr>\n",
       "      <th>194313</th>\n",
       "      <td>i feel reluctant in applying there because i w...</td>\n",
       "      <td>fear</td>\n",
       "      <td>Fear</td>\n",
       "    </tr>\n",
       "    <tr>\n",
       "      <th>194314</th>\n",
       "      <td>i just wanted to apologize to you because i fe...</td>\n",
       "      <td>anger</td>\n",
       "      <td>Angry</td>\n",
       "    </tr>\n",
       "  </tbody>\n",
       "</table>\n",
       "<p>200 rows × 3 columns</p>\n",
       "</div>"
      ],
      "text/plain": [
       "                                                  message sentiment  \\\n",
       "194115  i did feel complacent that now in britain with...       joy   \n",
       "194116  i will feel so glad to go sing me to sleep sin...       joy   \n",
       "194117           i feel like thats what vicious circle is     anger   \n",
       "194118                              i keep feel irritated     anger   \n",
       "194119  i travel i feel like men expect me to be neuro...      fear   \n",
       "...                                                   ...       ...   \n",
       "194310                 i begun to feel distressed for you      fear   \n",
       "194311  i left feeling annoyed and angry thinking that...     anger   \n",
       "194312  i were to ever get married i d have everything...       joy   \n",
       "194313  i feel reluctant in applying there because i w...      fear   \n",
       "194314  i just wanted to apologize to you because i fe...     anger   \n",
       "\n",
       "       sentiment_grouped  \n",
       "194115             Happy  \n",
       "194116             Happy  \n",
       "194117             Angry  \n",
       "194118             Angry  \n",
       "194119              Fear  \n",
       "...                  ...  \n",
       "194310              Fear  \n",
       "194311             Angry  \n",
       "194312             Happy  \n",
       "194313              Fear  \n",
       "194314             Angry  \n",
       "\n",
       "[200 rows x 3 columns]"
      ]
     },
     "execution_count": 11,
     "metadata": {},
     "output_type": "execute_result"
    }
   ],
   "source": [
    "df.tail(200)"
   ]
  },
  {
   "cell_type": "code",
   "execution_count": 12,
   "id": "0c91ada5",
   "metadata": {},
   "outputs": [
    {
     "name": "stdout",
     "output_type": "stream",
     "text": [
      "Interested    80888\n",
      "Neutral       41367\n",
      "Happy         31617\n",
      "Surprised     30638\n",
      "Fear           2963\n",
      "Angry          2876\n",
      "Sad            2533\n",
      "Disgusted      1433\n",
      "Name: sentiment_grouped, dtype: int64\n"
     ]
    }
   ],
   "source": [
    "sentiment_counts_grouped = df['sentiment_grouped'].value_counts()\n",
    "print(sentiment_counts_grouped)"
   ]
  },
  {
   "cell_type": "markdown",
   "id": "c02ed7e5",
   "metadata": {},
   "source": [
    "4    80888  \n",
    "5    41367  \n",
    "3    31617  \n",
    "7    30638  \n",
    "2     2963  \n",
    "0     2876  \n",
    "6     2533  \n",
    "1     1433  "
   ]
  },
  {
   "cell_type": "code",
   "execution_count": 13,
   "id": "863bf5bb",
   "metadata": {},
   "outputs": [
    {
     "data": {
      "text/plain": [
       "message              0\n",
       "sentiment            0\n",
       "sentiment_grouped    0\n",
       "dtype: int64"
      ]
     },
     "execution_count": 13,
     "metadata": {},
     "output_type": "execute_result"
    }
   ],
   "source": [
    "df.isnull().sum()"
   ]
  },
  {
   "cell_type": "code",
   "execution_count": 14,
   "id": "cda10727",
   "metadata": {},
   "outputs": [
    {
     "data": {
      "text/plain": [
       "<Axes: xlabel='sentiment_grouped', ylabel='count'>"
      ]
     },
     "execution_count": 14,
     "metadata": {},
     "output_type": "execute_result"
    },
    {
     "data": {
      "image/png": "[encoded data removed]",
      "text/plain": [
       "<Figure size 640x480 with 1 Axes>"
      ]
     },
     "metadata": {},
     "output_type": "display_data"
    }
   ],
   "source": [
    "sns.countplot(x = df['sentiment_grouped'])"
   ]
  },
  {
   "cell_type": "code",
   "execution_count": 15,
   "id": "57020aaa",
   "metadata": {},
   "outputs": [
    {
     "name": "stderr",
     "output_type": "stream",
     "text": [
      "[nltk_data] Downloading package wordnet to\n",
      "[nltk_data]     C:\\Users\\GOTTG\\AppData\\Roaming\\nltk_data...\n",
      "[nltk_data]   Package wordnet is already up-to-date!\n"
     ]
    }
   ],
   "source": [
    "try:\n",
    "    nltk.data.find('corpora/wordnet')\n",
    "except LookupError:\n",
    "    nltk.download('wordnet')"
   ]
  },
  {
   "cell_type": "code",
   "execution_count": 16,
   "id": "91bac6bd",
   "metadata": {},
   "outputs": [
    {
     "name": "stderr",
     "output_type": "stream",
     "text": [
      "[nltk_data] Downloading package stopwords to\n",
      "[nltk_data]     C:\\Users\\GOTTG\\AppData\\Roaming\\nltk_data...\n",
      "[nltk_data]   Package stopwords is already up-to-date!\n",
      "[nltk_data] Downloading package omw-1.4 to\n",
      "[nltk_data]     C:\\Users\\GOTTG\\AppData\\Roaming\\nltk_data...\n",
      "[nltk_data]   Package omw-1.4 is already up-to-date!\n"
     ]
    },
    {
     "data": {
      "text/plain": [
       "True"
      ]
     },
     "execution_count": 16,
     "metadata": {},
     "output_type": "execute_result"
    }
   ],
   "source": [
    "nltk.download('stopwords')\n",
    "nltk.download('omw-1.4')"
   ]
  },
  {
   "cell_type": "code",
   "execution_count": 17,
   "id": "7e28f740",
   "metadata": {},
   "outputs": [],
   "source": [
    "lemmatizer = WordNetLemmatizer()\n",
    "stemmer = PorterStemmer()"
   ]
  },
  {
   "cell_type": "code",
   "execution_count": 18,
   "id": "655f37e6",
   "metadata": {},
   "outputs": [],
   "source": [
    "stop_words = set(stopwords.words('english'))"
   ]
  },
  {
   "cell_type": "code",
   "execution_count": 19,
   "id": "2eb7a347",
   "metadata": {},
   "outputs": [
    {
     "data": {
      "text/html": [
       "<div>\n",
       "<style scoped>\n",
       "    .dataframe tbody tr th:only-of-type {\n",
       "        vertical-align: middle;\n",
       "    }\n",
       "\n",
       "    .dataframe tbody tr th {\n",
       "        vertical-align: top;\n",
       "    }\n",
       "\n",
       "    .dataframe thead th {\n",
       "        text-align: right;\n",
       "    }\n",
       "</style>\n",
       "<table border=\"1\" class=\"dataframe\">\n",
       "  <thead>\n",
       "    <tr style=\"text-align: right;\">\n",
       "      <th></th>\n",
       "      <th>message</th>\n",
       "      <th>sentiment</th>\n",
       "      <th>sentiment_grouped</th>\n",
       "      <th>processed_message</th>\n",
       "    </tr>\n",
       "  </thead>\n",
       "  <tbody>\n",
       "    <tr>\n",
       "      <th>0</th>\n",
       "      <td>Are you a fan of Google or Microsoft?</td>\n",
       "      <td>Curious to dive deeper</td>\n",
       "      <td>Interested</td>\n",
       "      <td>are fan googl microsoft ?</td>\n",
       "    </tr>\n",
       "    <tr>\n",
       "      <th>1</th>\n",
       "      <td>Both are excellent technology they are helpfu...</td>\n",
       "      <td>Curious to dive deeper</td>\n",
       "      <td>Interested</td>\n",
       "      <td>both excel technolog help mani way . for secur...</td>\n",
       "    </tr>\n",
       "    <tr>\n",
       "      <th>2</th>\n",
       "      <td>I'm not  a huge fan of Google, but I use it a...</td>\n",
       "      <td>Curious to dive deeper</td>\n",
       "      <td>Interested</td>\n",
       "      <td>i 'm huge fan googl , i use lot i . i think mo...</td>\n",
       "    </tr>\n",
       "    <tr>\n",
       "      <th>3</th>\n",
       "      <td>Google provides online related services and p...</td>\n",
       "      <td>Curious to dive deeper</td>\n",
       "      <td>Interested</td>\n",
       "      <td>googl provid onlin relat servic product , incl...</td>\n",
       "    </tr>\n",
       "    <tr>\n",
       "      <th>4</th>\n",
       "      <td>Yeah, their services are good. I'm just not a...</td>\n",
       "      <td>Curious to dive deeper</td>\n",
       "      <td>Interested</td>\n",
       "      <td>yeah , servic good . i 'm fan intrus person li...</td>\n",
       "    </tr>\n",
       "  </tbody>\n",
       "</table>\n",
       "</div>"
      ],
      "text/plain": [
       "                                             message               sentiment  \\\n",
       "0              Are you a fan of Google or Microsoft?  Curious to dive deeper   \n",
       "1   Both are excellent technology they are helpfu...  Curious to dive deeper   \n",
       "2   I'm not  a huge fan of Google, but I use it a...  Curious to dive deeper   \n",
       "3   Google provides online related services and p...  Curious to dive deeper   \n",
       "4   Yeah, their services are good. I'm just not a...  Curious to dive deeper   \n",
       "\n",
       "  sentiment_grouped                                  processed_message  \n",
       "0        Interested                          are fan googl microsoft ?  \n",
       "1        Interested  both excel technolog help mani way . for secur...  \n",
       "2        Interested  i 'm huge fan googl , i use lot i . i think mo...  \n",
       "3        Interested  googl provid onlin relat servic product , incl...  \n",
       "4        Interested  yeah , servic good . i 'm fan intrus person li...  "
      ]
     },
     "execution_count": 19,
     "metadata": {},
     "output_type": "execute_result"
    }
   ],
   "source": [
    "def preprocess_text(text):\n",
    "    # Tokenizing the text\n",
    "    tokens = word_tokenize(text)\n",
    "    \n",
    "    # Removing stop words\n",
    "    tokens = [word for word in tokens if word not in stop_words]\n",
    "\n",
    "    # Lemmatization\n",
    "    tokens = [lemmatizer.lemmatize(word) for word in tokens]\n",
    "\n",
    "    # Stemming\n",
    "    tokens = [stemmer.stem(word) for word in tokens]\n",
    "\n",
    "    # Joining the tokens back into a sentence\n",
    "    preprocessed_text = ' '.join(tokens)\n",
    "    \n",
    "    return preprocessed_text\n",
    "\n",
    "# Applying the preprocessing function to the 'Comment' column\n",
    "df['processed_message'] = df['message'].apply(preprocess_text)\n",
    "\n",
    "# Displaying the preprocessed DataFrame\n",
    "df.head()"
   ]
  },
  {
   "cell_type": "code",
   "execution_count": 20,
   "id": "7cdeb4ab",
   "metadata": {},
   "outputs": [
    {
     "name": "stdout",
     "output_type": "stream",
     "text": [
      "                                             message               sentiment  \\\n",
      "0              Are you a fan of Google or Microsoft?  Curious to dive deeper   \n",
      "1   Both are excellent technology they are helpfu...  Curious to dive deeper   \n",
      "2   I'm not  a huge fan of Google, but I use it a...  Curious to dive deeper   \n",
      "3   Google provides online related services and p...  Curious to dive deeper   \n",
      "4   Yeah, their services are good. I'm just not a...  Curious to dive deeper   \n",
      "\n",
      "  sentiment_grouped                                  processed_message  \\\n",
      "0        Interested                          are fan googl microsoft ?   \n",
      "1        Interested  both excel technolog help mani way . for secur...   \n",
      "2        Interested  i 'm huge fan googl , i use lot i . i think mo...   \n",
      "3        Interested  googl provid onlin relat servic product , incl...   \n",
      "4        Interested  yeah , servic good . i 'm fan intrus person li...   \n",
      "\n",
      "   sentiment_label  \n",
      "0                4  \n",
      "1                4  \n",
      "2                4  \n",
      "3                4  \n",
      "4                4  \n"
     ]
    }
   ],
   "source": [
    "# Initializing the LabelEncoder\n",
    "label_encoder = LabelEncoder()\n",
    "\n",
    "# Encoding the 'sentiment_grouped' column into numerical values\n",
    "df['sentiment_label'] = label_encoder.fit_transform(df['sentiment_grouped'])\n",
    "\n",
    "# Displaying the first 5 rows of the DataFrame\n",
    "print(df.head(5))\n"
   ]
  },
  {
   "cell_type": "code",
   "execution_count": 21,
   "id": "f427b83c",
   "metadata": {},
   "outputs": [
    {
     "data": {
      "text/plain": [
       "4    80888\n",
       "5    41367\n",
       "3    31617\n",
       "7    30638\n",
       "2     2963\n",
       "0     2876\n",
       "6     2533\n",
       "1     1433\n",
       "Name: sentiment_label, dtype: int64"
      ]
     },
     "execution_count": 21,
     "metadata": {},
     "output_type": "execute_result"
    }
   ],
   "source": [
    "df['sentiment_label'].value_counts()"
   ]
  },
  {
   "cell_type": "code",
   "execution_count": 22,
   "id": "d229c708",
   "metadata": {},
   "outputs": [],
   "source": [
    "# Splitting the data into features (X) and target variable (y)\n",
    "X = df['processed_message']\n",
    "y = df['sentiment_label']\n",
    "\n",
    "# Splitting the data into training and testing sets\n",
    "X_train, X_test, y_train, y_test = train_test_split(X, y, test_size=0.2, random_state=42)"
   ]
  },
  {
   "cell_type": "code",
   "execution_count": 23,
   "id": "b629edc8",
   "metadata": {},
   "outputs": [
    {
     "data": {
      "text/plain": [
       "['tfidf_vectorizer.pkl']"
      ]
     },
     "execution_count": 23,
     "metadata": {},
     "output_type": "execute_result"
    }
   ],
   "source": [
    "# Initializing the TF-IDF vectorizer\n",
    "vectorizer = TfidfVectorizer()\n",
    "\n",
    "# Transforming the training and testing data\n",
    "X_train_tfidf = vectorizer.fit_transform(X_train)\n",
    "X_test_tfidf = vectorizer.transform(X_test)\n",
    "joblib.dump(vectorizer, 'tfidf_vectorizer.pkl')"
   ]
  },
  {
   "cell_type": "code",
   "execution_count": 24,
   "id": "35c24c2c",
   "metadata": {},
   "outputs": [
    {
     "data": {
      "text/plain": [
       "['word2vec_model.pkl']"
      ]
     },
     "execution_count": 24,
     "metadata": {},
     "output_type": "execute_result"
    }
   ],
   "source": [
    "X_train_tokens = [text.split() for text in X_train]\n",
    "X_test_tokens = [text.split() for text in X_test]\n",
    "\n",
    "word2vec_model = Word2Vec(sentences=X_train_tokens, vector_size=100, window=5, min_count=1, workers=4)\n",
    "\n",
    "def document_to_mean_vector(document, model, vector_size=100):\n",
    "    vectors = [model.wv[word] for word in document if word in model.wv]\n",
    "\n",
    "    if len(vectors) > 0:\n",
    "        return np.mean(vectors, axis=0)\n",
    "    else:\n",
    "        return np.zeros(vector_size)\n",
    "\n",
    "# Converting each document in the train and test sets to mean vector\n",
    "X_train_word2vec = [document_to_mean_vector(doc, word2vec_model) for doc in X_train_tokens]\n",
    "X_test_word2vec = [document_to_mean_vector(doc, word2vec_model) for doc in X_test_tokens]\n",
    "\n",
    "# Stacking the vectors to create a 2D array\n",
    "X_train_word2vec = np.vstack(X_train_word2vec)\n",
    "X_test_word2vec = np.vstack(X_test_word2vec)\n",
    "\n",
    "# Replacing NaNs and infinite values, if any\n",
    "X_train_word2vec = np.nan_to_num(X_train_word2vec)\n",
    "X_test_word2vec = np.nan_to_num(X_test_word2vec)\n",
    "joblib.dump(word2vec_model, 'word2vec_model.pkl')"
   ]
  },
  {
   "cell_type": "code",
   "execution_count": 25,
   "id": "f388f197",
   "metadata": {},
   "outputs": [
    {
     "name": "stdout",
     "output_type": "stream",
     "text": [
      "Accuracy: 0.45\n",
      "\n",
      "Classification Report:\n",
      "               precision    recall  f1-score   support\n",
      "\n",
      "           0       0.94      0.11      0.19       599\n",
      "           1       0.00      0.00      0.00       274\n",
      "           2       0.86      0.11      0.20       554\n",
      "           3       0.50      0.11      0.17      6373\n",
      "           4       0.45      0.96      0.61     16236\n",
      "           5       0.45      0.10      0.16      8219\n",
      "           6       0.00      0.00      0.00       516\n",
      "           7       0.41      0.03      0.06      6092\n",
      "\n",
      "    accuracy                           0.45     38863\n",
      "   macro avg       0.45      0.18      0.17     38863\n",
      "weighted avg       0.45      0.45      0.33     38863\n",
      "\n"
     ]
    },
    {
     "name": "stderr",
     "output_type": "stream",
     "text": [
      "C:\\Users\\GOTTG\\AppData\\Local\\anaconda3\\lib\\site-packages\\sklearn\\metrics\\_classification.py:1344: UndefinedMetricWarning: Precision and F-score are ill-defined and being set to 0.0 in labels with no predicted samples. Use `zero_division` parameter to control this behavior.\n",
      "  _warn_prf(average, modifier, msg_start, len(result))\n",
      "C:\\Users\\GOTTG\\AppData\\Local\\anaconda3\\lib\\site-packages\\sklearn\\metrics\\_classification.py:1344: UndefinedMetricWarning: Precision and F-score are ill-defined and being set to 0.0 in labels with no predicted samples. Use `zero_division` parameter to control this behavior.\n",
      "  _warn_prf(average, modifier, msg_start, len(result))\n",
      "C:\\Users\\GOTTG\\AppData\\Local\\anaconda3\\lib\\site-packages\\sklearn\\metrics\\_classification.py:1344: UndefinedMetricWarning: Precision and F-score are ill-defined and being set to 0.0 in labels with no predicted samples. Use `zero_division` parameter to control this behavior.\n",
      "  _warn_prf(average, modifier, msg_start, len(result))\n"
     ]
    }
   ],
   "source": [
    "# Initializing the Naive Bayes classifier\n",
    "naive_bayes = MultinomialNB()\n",
    "\n",
    "# Training the classifier on the training data\n",
    "naive_bayes.fit(X_train_tfidf, y_train)\n",
    "\n",
    "# Making predictions on the test data\n",
    "y_pred = naive_bayes.predict(X_test_tfidf)\n",
    "\n",
    "# Evaluating the model\n",
    "accuracy = accuracy_score(y_test, y_pred)\n",
    "print(f'Accuracy: {accuracy:.2f}')\n",
    "\n",
    "# Classification Report\n",
    "print('\\nClassification Report:\\n', classification_report(y_test, y_pred))\n"
   ]
  },
  {
   "cell_type": "code",
   "execution_count": 26,
   "id": "18359f0e",
   "metadata": {},
   "outputs": [
    {
     "name": "stdout",
     "output_type": "stream",
     "text": [
      "Accuracy: 0.49\n",
      "Classification Report:\n",
      "               precision    recall  f1-score   support\n",
      "\n",
      "           0       0.86      0.57      0.69       599\n",
      "           1       0.30      0.01      0.02       274\n",
      "           2       0.78      0.56      0.65       554\n",
      "           3       0.43      0.25      0.31      6373\n",
      "           4       0.53      0.76      0.62     16236\n",
      "           5       0.41      0.34      0.37      8219\n",
      "           6       0.44      0.11      0.18       516\n",
      "           7       0.40      0.28      0.33      6092\n",
      "\n",
      "    accuracy                           0.49     38863\n",
      "   macro avg       0.52      0.36      0.40     38863\n",
      "weighted avg       0.47      0.49      0.46     38863\n",
      "\n"
     ]
    }
   ],
   "source": [
    "logreg = make_pipeline(MaxAbsScaler(), LogisticRegression(max_iter=1000))\n",
    "logreg.fit(X_train_tfidf, y_train)\n",
    "y_pred_logreg = logreg.predict(X_test_tfidf)\n",
    "joblib.dump(logreg, 'logreg_model.pkl')\n",
    "\n",
    "# Evaluating the models\n",
    "\n",
    "print(f'Accuracy: {accuracy_score(y_test, y_pred_logreg):.2f}')\n",
    "print('Classification Report:\\n', classification_report(y_test, y_pred_logreg))"
   ]
  },
  {
   "cell_type": "code",
   "execution_count": null,
   "id": "390bc2ff",
   "metadata": {},
   "outputs": [],
   "source": [
    "def predict_sentiment(text):\n",
    "    preprocessed_text = preprocess_text(text)\n",
    "    text_vector = document_to_mean_vector(preprocessed_text, word2vec_model)\n",
    "   # text_vector = text_vector.reshape(1, -1)  \n",
    "    prediction = logreg.predict(text_vector)\n",
    "    return prediction[0]"
   ]
  },
  {
   "cell_type": "code",
   "execution_count": null,
   "id": "3354663d",
   "metadata": {},
   "outputs": [],
   "source": [
    "input_text = input(\"i feel to write something is making me reluctant\")\n",
    "predicted_class = predict_sentiment(input_text)\n",
    "print(f\"The predicted sentiment class is: {predicted_class}\")"
   ]
  },
  {
   "cell_type": "code",
   "execution_count": null,
   "id": "72fedbee",
   "metadata": {},
   "outputs": [],
   "source": [
    "\n",
    "xgb_classifier = xgb.XGBClassifier(objective=\"multi:softmax\", num_class=len(df['sentiment_grouped'].unique()), random_state=42)\n",
    "xgb_classifier.fit(X_train_tfidf, y_train)\n",
    "y_pred_xgb = xgb_classifier.predict(X_test_tfidf)\n",
    "\n",
    "\n",
    "print(f'Accuracy: {accuracy_score(y_test, y_pred_xgb):.2f}')\n",
    "print('Classification Report:\\n', classification_report(y_test, y_pred_xgb))\n",
    "print('Confusion Matrix:\\n', confusion_matrix(y_test, y_pred_xgb))"
   ]
  },
  {
   "cell_type": "code",
   "execution_count": null,
   "id": "ad116ea7",
   "metadata": {},
   "outputs": [],
   "source": [
    "rf_classifier = RandomForestClassifier()\n",
    "rf_classifier.fit(X_train_tfidf, y_train)\n",
    "y_pred_rf = rf_classifier.predict(X_test_tfidf)\n",
    "\n",
    "\n",
    "\n",
    "print(f'Accuracy: {accuracy_score(y_test, y_pred_rf):.2f}')\n",
    "print('Classification Report:\\n', classification_report(y_test, y_pred_rf))\n",
    "\n",
    "\n"
   ]
  }
 ],
 "metadata": {
  "kernelspec": {
   "display_name": "Python 3 (ipykernel)",
   "language": "python",
   "name": "python3"
  },
  "language_info": {
   "codemirror_mode": {
    "name": "ipython",
    "version": 3
   },
   "file_extension": ".py",
   "mimetype": "text/x-python",
   "name": "python",
   "nbconvert_exporter": "python",
   "pygments_lexer": "ipython3",
   "version": "3.10.9"
  }
 },
 "nbformat": 4,
 "nbformat_minor": 5
}
